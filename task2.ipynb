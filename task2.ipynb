{
 "cells": [
  {
   "cell_type": "code",
   "execution_count": 1,
   "id": "4d5fb376",
   "metadata": {},
   "outputs": [],
   "source": [
    "import numpy as np"
   ]
  },
  {
   "cell_type": "code",
   "execution_count": 2,
   "id": "f5485cd0",
   "metadata": {},
   "outputs": [],
   "source": [
    "matrix = np.array([[1, 2, 0, 4],\n",
    "                  [0, 0, 0, 0],\n",
    "                  [5, 6, 7, 8],\n",
    "                  [0, 0, 0, 0]])"
   ]
  },
  {
   "cell_type": "code",
   "execution_count": 7,
   "id": "200dff8e",
   "metadata": {},
   "outputs": [],
   "source": [
    "nonzero_rows = np.any(matrix != 0, axis=1)"
   ]
  },
  {
   "cell_type": "code",
   "execution_count": 8,
   "id": "fd31ea5a",
   "metadata": {},
   "outputs": [
    {
     "data": {
      "text/plain": [
       "array([ True, False,  True, False])"
      ]
     },
     "execution_count": 8,
     "metadata": {},
     "output_type": "execute_result"
    }
   ],
   "source": [
    "nonzero_rows"
   ]
  },
  {
   "cell_type": "code",
   "execution_count": 9,
   "id": "dcfc111a",
   "metadata": {},
   "outputs": [],
   "source": [
    "nonzero_cols = np.any(matrix != 0, axis=0)"
   ]
  },
  {
   "cell_type": "code",
   "execution_count": 10,
   "id": "ac9140ea",
   "metadata": {},
   "outputs": [
    {
     "data": {
      "text/plain": [
       "array([ True,  True,  True,  True])"
      ]
     },
     "execution_count": 10,
     "metadata": {},
     "output_type": "execute_result"
    }
   ],
   "source": [
    "nonzero_cols"
   ]
  },
  {
   "cell_type": "code",
   "execution_count": 12,
   "id": "7cb43b48",
   "metadata": {},
   "outputs": [],
   "source": [
    "compacted_matrix = matrix[nonzero_rows][:, nonzero_cols]"
   ]
  },
  {
   "cell_type": "code",
   "execution_count": 13,
   "id": "48675211",
   "metadata": {},
   "outputs": [
    {
     "data": {
      "text/plain": [
       "array([[1, 2, 0, 4],\n",
       "       [5, 6, 7, 8]])"
      ]
     },
     "execution_count": 13,
     "metadata": {},
     "output_type": "execute_result"
    }
   ],
   "source": [
    "compacted_matrix"
   ]
  },
  {
   "cell_type": "code",
   "execution_count": 15,
   "id": "79703b6a",
   "metadata": {},
   "outputs": [],
   "source": [
    "first_positive_row = np.argmax(np.any(compacted_matrix > 0, axis=1))"
   ]
  },
  {
   "cell_type": "code",
   "execution_count": 16,
   "id": "72e67fb6",
   "metadata": {},
   "outputs": [
    {
     "data": {
      "text/plain": [
       "0"
      ]
     },
     "execution_count": 16,
     "metadata": {},
     "output_type": "execute_result"
    }
   ],
   "source": [
    "first_positive_row"
   ]
  },
  {
   "cell_type": "markdown",
   "id": "00abcd4e",
   "metadata": {},
   "source": [
    "<h1>Исходная матрица</h1>"
   ]
  },
  {
   "cell_type": "code",
   "execution_count": 17,
   "id": "51729113",
   "metadata": {},
   "outputs": [
    {
     "data": {
      "text/plain": [
       "array([[1, 2, 0, 4],\n",
       "       [0, 0, 0, 0],\n",
       "       [5, 6, 7, 8],\n",
       "       [0, 0, 0, 0]])"
      ]
     },
     "execution_count": 17,
     "metadata": {},
     "output_type": "execute_result"
    }
   ],
   "source": [
    "matrix"
   ]
  },
  {
   "cell_type": "markdown",
   "id": "9ad2615f",
   "metadata": {},
   "source": [
    "<h1>Уплотнённая матрица</h1>"
   ]
  },
  {
   "cell_type": "code",
   "execution_count": 18,
   "id": "281208dd",
   "metadata": {},
   "outputs": [
    {
     "data": {
      "text/plain": [
       "array([[1, 2, 0, 4],\n",
       "       [5, 6, 7, 8]])"
      ]
     },
     "execution_count": 18,
     "metadata": {},
     "output_type": "execute_result"
    }
   ],
   "source": [
    "compacted_matrix"
   ]
  },
  {
   "cell_type": "markdown",
   "id": "d8f7f636",
   "metadata": {},
   "source": [
    "<h1>Номер первой строки с положительным элементом/h1>"
   ]
  },
  {
   "cell_type": "code",
   "execution_count": 19,
   "id": "33483c8c",
   "metadata": {},
   "outputs": [
    {
     "data": {
      "text/plain": [
       "0"
      ]
     },
     "execution_count": 19,
     "metadata": {},
     "output_type": "execute_result"
    }
   ],
   "source": [
    "first_positive_row"
   ]
  },
  {
   "cell_type": "code",
   "execution_count": null,
   "id": "974e357a",
   "metadata": {},
   "outputs": [],
   "source": []
  }
 ],
 "metadata": {
  "kernelspec": {
   "display_name": "Python 3 (ipykernel)",
   "language": "python",
   "name": "python3"
  },
  "language_info": {
   "codemirror_mode": {
    "name": "ipython",
    "version": 3
   },
   "file_extension": ".py",
   "mimetype": "text/x-python",
   "name": "python",
   "nbconvert_exporter": "python",
   "pygments_lexer": "ipython3",
   "version": "3.9.13"
  }
 },
 "nbformat": 4,
 "nbformat_minor": 5
}
